{
 "cells": [
  {
   "cell_type": "markdown",
   "metadata": {},
   "source": [
    "<img src=\"http://imgur.com/1ZcRyrc.png\" style=\"float: left; margin: 20px; height: 55px\"> \n",
    "# News Articles Clustering Using KMeans"
   ]
  },
  {
   "cell_type": "markdown",
   "metadata": {},
   "source": [
    "## Overview\n",
    "\n",
    "\n",
    "   **In this project we will try to cluster news articles into different categories automatically using unsupervised machine learning algorithm which is KMeans. The dataset consists of 4130 news articles in diffrent categories like business, entertainment, politics, sport, ect.**\n",
    "\n",
    "<img src=\"https://miro.medium.com/max/700/1*YWEqFeKKKzDiNWy5UfrTsg.png\" style=\"float: center; margin: 20px; height: 300px\"> "
   ]
  },
  {
   "cell_type": "code",
   "execution_count": 3,
   "metadata": {},
   "outputs": [],
   "source": [
    "import re\n",
    "import numpy as np\n",
    "import pandas as pd\n",
    "from sklearn.feature_extraction.text import CountVectorizer, TfidfTransformer\n",
    "from sklearn.pipeline import Pipeline\n",
    "from sklearn.cluster import KMeans\n",
    "from nltk.stem.isri import ISRIStemmer\n",
    "from nltk.corpus import stopwords\n",
    "import matplotlib.pyplot as plt\n",
    "from sklearn.metrics import classification_report\n",
    "from sklearn.model_selection import train_test_split"
   ]
  },
  {
   "cell_type": "code",
   "execution_count": 4,
   "metadata": {},
   "outputs": [
    {
     "data": {
      "text/plain": [
       "0    حذّرت الهيئة العامة للغذاء والدواء من منتج عسل...\n",
       "1    أقامت حكومة مدينة يوكوهاما، والمعهد الوطني للد...\n",
       "2    أظهر مقطع فيديو متداول آخر للفتاة المقيمة، وهي...\n",
       "3    أنقذت شجاعة مواطن اليوم فريقًا لشركة متعاقدة م...\n",
       "4    استقبل مدير الدفاع المدني بمنطقة الرياض، اللوا...\n",
       "Name: news_text, dtype: object"
      ]
     },
     "execution_count": 4,
     "metadata": {},
     "output_type": "execute_result"
    }
   ],
   "source": [
    "# read data\n",
    "df = pd.read_csv('news_data.csv')\n",
    "data = df['news_text']\n",
    "data.head()"
   ]
  },
  {
   "cell_type": "markdown",
   "metadata": {},
   "source": [
    "### Data Cleaning Stopwords and Stemming\n",
    "**This section is focused on defining functions to manipulate the synopses. load nltk.corpus's list of Arabic stop words. Stop words are words like {'آه', 'آها', 'آي', which don't convey significant meaning.**"
   ]
  },
  {
   "cell_type": "code",
   "execution_count": 5,
   "metadata": {},
   "outputs": [],
   "source": [
    "# data cleaning\n",
    "\n",
    "# create instance of ISRIStemmer() class to stem arabic words\n",
    "st = ISRIStemmer()\n",
    "# get the stop words list\n",
    "arb_stopwords = set(stopwords.words(\"arabic\"))\n",
    "\n",
    "def stem_string(a_string):\n",
    "    stemmed = []\n",
    "    # يستخدم يلعب\n",
    "    # خدم لعب\n",
    "    try:\n",
    "        for w in a_string.split(' '):\n",
    "            stemmed.append(st.stem(w))\n",
    "        return ' '.join(stemmed)\n",
    "    except Exception as e:\n",
    "        print(e)\n",
    "        return ''\n",
    "\n",
    "def remove_urls(a_string):  # 'Hi all https://twitter.com' =-> Hi All\n",
    "    return re.sub(r\"http\\S+\", \"\", a_string).strip()\n",
    "\n",
    "\n",
    "def just_ar_words(a_string):\n",
    "    return \" \".join(re.findall(r'[\\u0621-\\u064A]+', a_string)).strip()\n",
    "\n",
    "\n",
    "def clean(a_string):\n",
    "    s = remove_urls(a_string)\n",
    "    s = just_ar_words(s)\n",
    "    s = stem_string(s)\n",
    "    return s"
   ]
  },
  {
   "cell_type": "markdown",
   "metadata": {},
   "source": [
    "### Arabic Stop Words\n"
   ]
  },
  {
   "cell_type": "code",
   "execution_count": 6,
   "metadata": {},
   "outputs": [
    {
     "name": "stdout",
     "output_type": "stream",
     "text": [
      "{'لك', 'إذ', 'بس', 'ذلكم', 'لكي', 'على', 'هاتين', 'هن', 'كيت', 'هذين', 'لستن', 'ليت', 'حيث', 'ها', 'أو', 'كأي', 'هل', 'شتان', 'فيما', 'لستما', 'كيفما', 'أين', 'إن', 'ألا', 'إليك', 'هلا', 'إذا', 'هؤلاء', 'لسن', 'غير', 'هذان', 'هاتي', 'اللتين', 'ريث', 'بعض', 'لهن', 'هنا', 'أنتما', 'لهم', 'وإذ', 'بيد', 'ثم', 'ذاك', 'عن', 'حيثما', 'هاته', 'بها', 'ذواتا', 'لكنما', 'كليهما', 'تلكما', 'اللائي', 'بهم', 'ذا', 'بماذا', 'فيها', 'لهما', 'فإن', 'اللتان', 'ذانك', 'ليس', 'هكذا', 'لعل', 'إي', 'آي', 'كل', 'بكم', 'ذو', 'لكم', 'إلى', 'لن', 'ذه', 'كلما', 'هيا', 'ولكن', 'فيم', 'هاهنا', 'مه', 'التي', 'إيه', 'فمن', 'اللذان', 'لنا', 'هذه', 'هاتان', 'أولئك', 'لدى', 'حين', 'كأين', 'بين', 'اللذين', 'متى', 'هذا', 'كيف', 'إليكما', 'أقل', 'ليست', 'أم', 'هناك', 'نعم', 'ما', 'سوف', 'عما', 'بل', 'لو', 'اللواتي', 'اللتيا', 'كليكما', 'أنتن', 'ته', 'من', 'ليستا', 'ذلك', 'مهما', 'ذين', 'عند', 'ممن', 'ذلكن', 'ذات', 'له', 'هم', 'وإن', 'بمن', 'كأنما', 'لسنا', 'وما', 'كي', 'اللاتي', 'عل', 'أما', 'تينك', 'بهما', 'كلا', 'لي', 'لئن', 'أنتم', 'ماذا', 'بنا', 'مذ', 'مما', 'ليسا', 'فلا', 'هو', 'بكما', 'في', 'أنت', 'كلتا', 'إذن', 'أنى', 'ذينك', 'دون', 'بي', 'نحو', 'لاسيما', 'حاشا', 'لم', 'لوما', 'لما', 'الذين', 'إليكم', 'بك', 'ذوا', 'آها', 'سوى', 'منها', 'وإذا', 'كما', 'عدا', 'لست', 'ذي', 'ليسوا', 'لكيلا', 'لستم', 'بهن', 'آه', 'حبذا', 'ولو', 'فيه', 'يا', 'أولاء', 'منه', 'ذلكما', 'لكما', 'مع', 'نحن', 'هيت', 'والذي', 'بخ', 'كذلك', 'تي', 'بلى', 'به', 'الذي', 'هنالك', 'إنما', 'أكثر', 'منذ', 'ولا', 'بعد', 'بكن', 'وهو', 'أف', 'ذواتي', 'هيهات', 'لا', 'كذا', 'عليه', 'أنا', 'إليكن', 'أوه', 'هاك', 'كم', 'خلا', 'هذي', 'أينما', 'ومن', 'والذين', 'إنا', 'تلك', 'إما', 'كلاهما', 'إلا', 'إذما', 'تين', 'ثمة', 'لكن', 'لها', 'عسى', 'عليك', 'كأن', 'هي', 'هما', 'لولا', 'حتى', 'فإذا', 'قد', 'ذان', 'إنه', 'أي', 'تلكم', 'أيها', 'بما', 'أن'}\n"
     ]
    }
   ],
   "source": [
    "from nltk.corpus import stopwords\n",
    "arb_stopwords = set(stopwords.words(\"arabic\"))\n",
    "print(arb_stopwords)"
   ]
  },
  {
   "cell_type": "code",
   "execution_count": 7,
   "metadata": {},
   "outputs": [
    {
     "data": {
      "text/plain": [
       "0    حذ رت هيئ عمة غذء دوء من نتج عسل علم جرة عسل ص...\n",
       "1    قمت حكم دين وكو عهد وطن درس سان جمع اكت ياب ؤس...\n",
       "2    ظهر قطع يدو داول اخر فتة قيم وهي حدث بصت عال و...\n",
       "3    قذت شجع وطن اليوم فرق ا لشر عاقد مع حدى ادر حك...\n",
       "4    قبل دير دفع دني نطق ريض لوء خلد حرق دير درة عم...\n",
       "Name: news_text, dtype: object"
      ]
     },
     "execution_count": 7,
     "metadata": {},
     "output_type": "execute_result"
    }
   ],
   "source": [
    "# apply cleaning data\n",
    "# loop throw each row and apply clean function \n",
    "data_cleaned = data.apply(lambda x: clean(str(x)))\n",
    "data_cleaned.head()"
   ]
  },
  {
   "cell_type": "code",
   "execution_count": 8,
   "metadata": {},
   "outputs": [
    {
     "data": {
      "text/plain": [
       "'حذ رت هيئ عمة غذء دوء من نتج عسل علم جرة عسل صحي نظر لاحتوائه على ادة دئي خدم وصف طبة وقل هيئ عسل صحي الذي نجه شرك في الز خلف لئح فنة عمد عسل نحل رقم سبب حوئ على ادة دئي تادالافيل التي خدم وجب وصف طبة وأص هلك جنب نتج خلص مما لدي منه فور حفظ على صحت شير الى انه تبع نفذ جرء أكد من خلو سوق من نتج'"
      ]
     },
     "execution_count": 8,
     "metadata": {},
     "output_type": "execute_result"
    }
   ],
   "source": [
    "data_cleaned[0]"
   ]
  },
  {
   "cell_type": "markdown",
   "metadata": {},
   "source": [
    "### CountVectorizer, TfidfTransformer, KMeans Modeling Using Pipeline"
   ]
  },
  {
   "cell_type": "code",
   "execution_count": 9,
   "metadata": {},
   "outputs": [
    {
     "data": {
      "text/plain": [
       "Pipeline(memory=None,\n",
       "         steps=[('vect',\n",
       "                 CountVectorizer(analyzer='word', binary=False,\n",
       "                                 decode_error='strict',\n",
       "                                 dtype=<class 'numpy.int64'>, encoding='utf-8',\n",
       "                                 input='content', lowercase=True, max_df=1.0,\n",
       "                                 max_features=None, min_df=1,\n",
       "                                 ngram_range=(1, 1), preprocessor=None,\n",
       "                                 stop_words={'آه', 'آها', 'آي', 'أف', 'أقل',\n",
       "                                             'أكثر', 'ألا', 'أم', 'أما', 'أن',\n",
       "                                             'أنا', 'أنت', 'أنتم', 'أنتما',\n",
       "                                             'أن...\n",
       "                                 strip_accents=None,\n",
       "                                 token_pattern='(?u)\\\\b\\\\w\\\\w+\\\\b',\n",
       "                                 tokenizer=None, vocabulary=None)),\n",
       "                ('tfidf',\n",
       "                 TfidfTransformer(norm='l2', smooth_idf=True,\n",
       "                                  sublinear_tf=False, use_idf=True)),\n",
       "                ('kmeans',\n",
       "                 KMeans(algorithm='auto', copy_x=True, init='k-means++',\n",
       "                        max_iter=300, n_clusters=18, n_init=10, n_jobs=None,\n",
       "                        precompute_distances='auto', random_state=None,\n",
       "                        tol=0.0001, verbose=0))],\n",
       "         verbose=False)"
      ]
     },
     "execution_count": 9,
     "metadata": {},
     "output_type": "execute_result"
    }
   ],
   "source": [
    "pipeline = Pipeline([('vect', CountVectorizer(stop_words=arb_stopwords)),\n",
    "                 ('tfidf', TfidfTransformer()),\n",
    "                 ('kmeans', KMeans(n_clusters=18))])\n",
    "pipeline.fit(data_cleaned)"
   ]
  },
  {
   "cell_type": "code",
   "execution_count": 10,
   "metadata": {},
   "outputs": [
    {
     "data": {
      "text/plain": [
       "{0, 1, 2, 3, 4, 5, 6, 7, 8, 9, 10, 11, 12, 13, 14, 15, 16, 17}"
      ]
     },
     "execution_count": 10,
     "metadata": {},
     "output_type": "execute_result"
    }
   ],
   "source": [
    "labels = pipeline['kmeans'].labels_\n",
    "set(labels)"
   ]
  },
  {
   "cell_type": "code",
   "execution_count": 11,
   "metadata": {},
   "outputs": [
    {
     "data": {
      "text/html": [
       "<div>\n",
       "<style scoped>\n",
       "    .dataframe tbody tr th:only-of-type {\n",
       "        vertical-align: middle;\n",
       "    }\n",
       "\n",
       "    .dataframe tbody tr th {\n",
       "        vertical-align: top;\n",
       "    }\n",
       "\n",
       "    .dataframe thead th {\n",
       "        text-align: right;\n",
       "    }\n",
       "</style>\n",
       "<table border=\"1\" class=\"dataframe\">\n",
       "  <thead>\n",
       "    <tr style=\"text-align: right;\">\n",
       "      <th></th>\n",
       "      <th>news_text</th>\n",
       "      <th>labels</th>\n",
       "    </tr>\n",
       "  </thead>\n",
       "  <tbody>\n",
       "    <tr>\n",
       "      <th>0</th>\n",
       "      <td>حذّرت الهيئة العامة للغذاء والدواء من منتج عسل...</td>\n",
       "      <td>0</td>\n",
       "    </tr>\n",
       "    <tr>\n",
       "      <th>1</th>\n",
       "      <td>أقامت حكومة مدينة يوكوهاما، والمعهد الوطني للد...</td>\n",
       "      <td>6</td>\n",
       "    </tr>\n",
       "    <tr>\n",
       "      <th>2</th>\n",
       "      <td>أظهر مقطع فيديو متداول آخر للفتاة المقيمة، وهي...</td>\n",
       "      <td>0</td>\n",
       "    </tr>\n",
       "    <tr>\n",
       "      <th>3</th>\n",
       "      <td>أنقذت شجاعة مواطن اليوم فريقًا لشركة متعاقدة م...</td>\n",
       "      <td>0</td>\n",
       "    </tr>\n",
       "    <tr>\n",
       "      <th>4</th>\n",
       "      <td>استقبل مدير الدفاع المدني بمنطقة الرياض، اللوا...</td>\n",
       "      <td>0</td>\n",
       "    </tr>\n",
       "  </tbody>\n",
       "</table>\n",
       "</div>"
      ],
      "text/plain": [
       "                                           news_text  labels\n",
       "0  حذّرت الهيئة العامة للغذاء والدواء من منتج عسل...       0\n",
       "1  أقامت حكومة مدينة يوكوهاما، والمعهد الوطني للد...       6\n",
       "2  أظهر مقطع فيديو متداول آخر للفتاة المقيمة، وهي...       0\n",
       "3  أنقذت شجاعة مواطن اليوم فريقًا لشركة متعاقدة م...       0\n",
       "4  استقبل مدير الدفاع المدني بمنطقة الرياض، اللوا...       0"
      ]
     },
     "execution_count": 11,
     "metadata": {},
     "output_type": "execute_result"
    }
   ],
   "source": [
    "df['labels'] = labels\n",
    "new_data = df[['news_text', 'labels']]\n",
    "new_data.head()"
   ]
  },
  {
   "cell_type": "code",
   "execution_count": 12,
   "metadata": {},
   "outputs": [],
   "source": [
    "def suggest(article, n):\n",
    "    # where n number of suggestions\n",
    "    pred_label = pipeline.predict([clean(article)])[0]\n",
    "    recommended = new_data[new_data['labels'] == pred_label][:n]\n",
    "    return recommended"
   ]
  },
  {
   "cell_type": "code",
   "execution_count": 13,
   "metadata": {},
   "outputs": [
    {
     "data": {
      "text/html": [
       "<div>\n",
       "<style scoped>\n",
       "    .dataframe tbody tr th:only-of-type {\n",
       "        vertical-align: middle;\n",
       "    }\n",
       "\n",
       "    .dataframe tbody tr th {\n",
       "        vertical-align: top;\n",
       "    }\n",
       "\n",
       "    .dataframe thead th {\n",
       "        text-align: right;\n",
       "    }\n",
       "</style>\n",
       "<table border=\"1\" class=\"dataframe\">\n",
       "  <thead>\n",
       "    <tr style=\"text-align: right;\">\n",
       "      <th></th>\n",
       "      <th>news_text</th>\n",
       "      <th>labels</th>\n",
       "    </tr>\n",
       "  </thead>\n",
       "  <tbody>\n",
       "    <tr>\n",
       "      <th>9</th>\n",
       "      <td>كشف رئيس اللجنة العليا لمشروع قياس وتحقيق رضا ...</td>\n",
       "      <td>8</td>\n",
       "    </tr>\n",
       "    <tr>\n",
       "      <th>20</th>\n",
       "      <td>عدَّ وزير الدولة عضو مجلس الوزراء لشؤون مجلس ا...</td>\n",
       "      <td>8</td>\n",
       "    </tr>\n",
       "    <tr>\n",
       "      <th>24</th>\n",
       "      <td>استقبل صاحب السمو الملكي الأمير محمد بن سلمان ...</td>\n",
       "      <td>8</td>\n",
       "    </tr>\n",
       "    <tr>\n",
       "      <th>36</th>\n",
       "      <td>استقبل وزير الخارجية الأمير فيصل بن فرحان بن ع...</td>\n",
       "      <td>8</td>\n",
       "    </tr>\n",
       "  </tbody>\n",
       "</table>\n",
       "</div>"
      ],
      "text/plain": [
       "                                            news_text  labels\n",
       "9   كشف رئيس اللجنة العليا لمشروع قياس وتحقيق رضا ...       8\n",
       "20  عدَّ وزير الدولة عضو مجلس الوزراء لشؤون مجلس ا...       8\n",
       "24  استقبل صاحب السمو الملكي الأمير محمد بن سلمان ...       8\n",
       "36  استقبل وزير الخارجية الأمير فيصل بن فرحان بن ع...       8"
      ]
     },
     "execution_count": 13,
     "metadata": {},
     "output_type": "execute_result"
    }
   ],
   "source": [
    "s = 'محمد بن سلمان'\n",
    "suggest(s, 4)"
   ]
  },
  {
   "cell_type": "code",
   "execution_count": 14,
   "metadata": {},
   "outputs": [
    {
     "name": "stdout",
     "output_type": "stream",
     "text": [
      "محمد بن سلمان\n"
     ]
    },
    {
     "data": {
      "text/html": [
       "<div>\n",
       "<style scoped>\n",
       "    .dataframe tbody tr th:only-of-type {\n",
       "        vertical-align: middle;\n",
       "    }\n",
       "\n",
       "    .dataframe tbody tr th {\n",
       "        vertical-align: top;\n",
       "    }\n",
       "\n",
       "    .dataframe thead th {\n",
       "        text-align: right;\n",
       "    }\n",
       "</style>\n",
       "<table border=\"1\" class=\"dataframe\">\n",
       "  <thead>\n",
       "    <tr style=\"text-align: right;\">\n",
       "      <th></th>\n",
       "      <th>news_text</th>\n",
       "      <th>labels</th>\n",
       "    </tr>\n",
       "  </thead>\n",
       "  <tbody>\n",
       "    <tr>\n",
       "      <th>9</th>\n",
       "      <td>كشف رئيس اللجنة العليا لمشروع قياس وتحقيق رضا ...</td>\n",
       "      <td>8</td>\n",
       "    </tr>\n",
       "    <tr>\n",
       "      <th>20</th>\n",
       "      <td>عدَّ وزير الدولة عضو مجلس الوزراء لشؤون مجلس ا...</td>\n",
       "      <td>8</td>\n",
       "    </tr>\n",
       "    <tr>\n",
       "      <th>24</th>\n",
       "      <td>استقبل صاحب السمو الملكي الأمير محمد بن سلمان ...</td>\n",
       "      <td>8</td>\n",
       "    </tr>\n",
       "    <tr>\n",
       "      <th>36</th>\n",
       "      <td>استقبل وزير الخارجية الأمير فيصل بن فرحان بن ع...</td>\n",
       "      <td>8</td>\n",
       "    </tr>\n",
       "  </tbody>\n",
       "</table>\n",
       "</div>"
      ],
      "text/plain": [
       "                                            news_text  labels\n",
       "9   كشف رئيس اللجنة العليا لمشروع قياس وتحقيق رضا ...       8\n",
       "20  عدَّ وزير الدولة عضو مجلس الوزراء لشؤون مجلس ا...       8\n",
       "24  استقبل صاحب السمو الملكي الأمير محمد بن سلمان ...       8\n",
       "36  استقبل وزير الخارجية الأمير فيصل بن فرحان بن ع...       8"
      ]
     },
     "execution_count": 14,
     "metadata": {},
     "output_type": "execute_result"
    }
   ],
   "source": [
    "s = input()\n",
    "suggest(s, 4)"
   ]
  },
  {
   "cell_type": "code",
   "execution_count": 15,
   "metadata": {},
   "outputs": [
    {
     "data": {
      "text/html": [
       "<div>\n",
       "<style scoped>\n",
       "    .dataframe tbody tr th:only-of-type {\n",
       "        vertical-align: middle;\n",
       "    }\n",
       "\n",
       "    .dataframe tbody tr th {\n",
       "        vertical-align: top;\n",
       "    }\n",
       "\n",
       "    .dataframe thead th {\n",
       "        text-align: right;\n",
       "    }\n",
       "</style>\n",
       "<table border=\"1\" class=\"dataframe\">\n",
       "  <thead>\n",
       "    <tr style=\"text-align: right;\">\n",
       "      <th></th>\n",
       "      <th>news_text</th>\n",
       "      <th>labels</th>\n",
       "    </tr>\n",
       "  </thead>\n",
       "  <tbody>\n",
       "    <tr>\n",
       "      <th>23</th>\n",
       "      <td>كرّست القيادة الرشيدة بتأسيسها هيئة تطوير بواب...</td>\n",
       "      <td>7</td>\n",
       "    </tr>\n",
       "    <tr>\n",
       "      <th>58</th>\n",
       "      <td>قدّم صاحب مقطع \"ونتر وندرلاند\" اعتذاره عن الخط...</td>\n",
       "      <td>7</td>\n",
       "    </tr>\n",
       "    <tr>\n",
       "      <th>90</th>\n",
       "      <td>أكد الرئيس التنفيذي لهيئة تطوير بوابة الدرعية...</td>\n",
       "      <td>7</td>\n",
       "    </tr>\n",
       "    <tr>\n",
       "      <th>114</th>\n",
       "      <td>واصل حساب رئيس الهيئة العامة للترفيه رئيس موسم...</td>\n",
       "      <td>7</td>\n",
       "    </tr>\n",
       "    <tr>\n",
       "      <th>128</th>\n",
       "      <td>نظمت الخطوط الجوية العربية السعودية ورشة عمل ...</td>\n",
       "      <td>7</td>\n",
       "    </tr>\n",
       "    <tr>\n",
       "      <th>145</th>\n",
       "      <td>حقق موسم الرياض رغبة عشاق المرتفعات من خلال فع...</td>\n",
       "      <td>7</td>\n",
       "    </tr>\n",
       "    <tr>\n",
       "      <th>153</th>\n",
       "      <td>بتوجيه أمير المنطقة الشرقية، الأمير سعود بن نا...</td>\n",
       "      <td>7</td>\n",
       "    </tr>\n",
       "    <tr>\n",
       "      <th>171</th>\n",
       "      <td>يشهد منتدى الإعلام السعودي الذي يُعقد في ديسمب...</td>\n",
       "      <td>7</td>\n",
       "    </tr>\n",
       "    <tr>\n",
       "      <th>197</th>\n",
       "      <td>تشارك وزارة الصحة، بالتعاون مع الهيئة العامة ل...</td>\n",
       "      <td>7</td>\n",
       "    </tr>\n",
       "    <tr>\n",
       "      <th>199</th>\n",
       "      <td>أوضح رئيس الهيئة العامة للترفيه تركي آل الشيخ،...</td>\n",
       "      <td>7</td>\n",
       "    </tr>\n",
       "  </tbody>\n",
       "</table>\n",
       "</div>"
      ],
      "text/plain": [
       "                                             news_text  labels\n",
       "23   كرّست القيادة الرشيدة بتأسيسها هيئة تطوير بواب...       7\n",
       "58   قدّم صاحب مقطع \"ونتر وندرلاند\" اعتذاره عن الخط...       7\n",
       "90    أكد الرئيس التنفيذي لهيئة تطوير بوابة الدرعية...       7\n",
       "114  واصل حساب رئيس الهيئة العامة للترفيه رئيس موسم...       7\n",
       "128   نظمت الخطوط الجوية العربية السعودية ورشة عمل ...       7\n",
       "145  حقق موسم الرياض رغبة عشاق المرتفعات من خلال فع...       7\n",
       "153  بتوجيه أمير المنطقة الشرقية، الأمير سعود بن نا...       7\n",
       "171  يشهد منتدى الإعلام السعودي الذي يُعقد في ديسمب...       7\n",
       "197  تشارك وزارة الصحة، بالتعاون مع الهيئة العامة ل...       7\n",
       "199  أوضح رئيس الهيئة العامة للترفيه تركي آل الشيخ،...       7"
      ]
     },
     "execution_count": 15,
     "metadata": {},
     "output_type": "execute_result"
    }
   ],
   "source": [
    "s = 'الترفيه'\n",
    "suggest(s, 10)"
   ]
  },
  {
   "cell_type": "code",
   "execution_count": 16,
   "metadata": {},
   "outputs": [
    {
     "name": "stdout",
     "output_type": "stream",
     "text": [
      "الترفيه\n"
     ]
    },
    {
     "data": {
      "text/html": [
       "<div>\n",
       "<style scoped>\n",
       "    .dataframe tbody tr th:only-of-type {\n",
       "        vertical-align: middle;\n",
       "    }\n",
       "\n",
       "    .dataframe tbody tr th {\n",
       "        vertical-align: top;\n",
       "    }\n",
       "\n",
       "    .dataframe thead th {\n",
       "        text-align: right;\n",
       "    }\n",
       "</style>\n",
       "<table border=\"1\" class=\"dataframe\">\n",
       "  <thead>\n",
       "    <tr style=\"text-align: right;\">\n",
       "      <th></th>\n",
       "      <th>news_text</th>\n",
       "      <th>labels</th>\n",
       "    </tr>\n",
       "  </thead>\n",
       "  <tbody>\n",
       "    <tr>\n",
       "      <th>23</th>\n",
       "      <td>كرّست القيادة الرشيدة بتأسيسها هيئة تطوير بواب...</td>\n",
       "      <td>7</td>\n",
       "    </tr>\n",
       "    <tr>\n",
       "      <th>58</th>\n",
       "      <td>قدّم صاحب مقطع \"ونتر وندرلاند\" اعتذاره عن الخط...</td>\n",
       "      <td>7</td>\n",
       "    </tr>\n",
       "    <tr>\n",
       "      <th>90</th>\n",
       "      <td>أكد الرئيس التنفيذي لهيئة تطوير بوابة الدرعية...</td>\n",
       "      <td>7</td>\n",
       "    </tr>\n",
       "    <tr>\n",
       "      <th>114</th>\n",
       "      <td>واصل حساب رئيس الهيئة العامة للترفيه رئيس موسم...</td>\n",
       "      <td>7</td>\n",
       "    </tr>\n",
       "    <tr>\n",
       "      <th>128</th>\n",
       "      <td>نظمت الخطوط الجوية العربية السعودية ورشة عمل ...</td>\n",
       "      <td>7</td>\n",
       "    </tr>\n",
       "    <tr>\n",
       "      <th>145</th>\n",
       "      <td>حقق موسم الرياض رغبة عشاق المرتفعات من خلال فع...</td>\n",
       "      <td>7</td>\n",
       "    </tr>\n",
       "  </tbody>\n",
       "</table>\n",
       "</div>"
      ],
      "text/plain": [
       "                                             news_text  labels\n",
       "23   كرّست القيادة الرشيدة بتأسيسها هيئة تطوير بواب...       7\n",
       "58   قدّم صاحب مقطع \"ونتر وندرلاند\" اعتذاره عن الخط...       7\n",
       "90    أكد الرئيس التنفيذي لهيئة تطوير بوابة الدرعية...       7\n",
       "114  واصل حساب رئيس الهيئة العامة للترفيه رئيس موسم...       7\n",
       "128   نظمت الخطوط الجوية العربية السعودية ورشة عمل ...       7\n",
       "145  حقق موسم الرياض رغبة عشاق المرتفعات من خلال فع...       7"
      ]
     },
     "execution_count": 16,
     "metadata": {},
     "output_type": "execute_result"
    }
   ],
   "source": [
    "s = input()\n",
    "suggest(s, 6)"
   ]
  },
  {
   "cell_type": "code",
   "execution_count": 17,
   "metadata": {},
   "outputs": [
    {
     "data": {
      "text/html": [
       "<div>\n",
       "<style scoped>\n",
       "    .dataframe tbody tr th:only-of-type {\n",
       "        vertical-align: middle;\n",
       "    }\n",
       "\n",
       "    .dataframe tbody tr th {\n",
       "        vertical-align: top;\n",
       "    }\n",
       "\n",
       "    .dataframe thead th {\n",
       "        text-align: right;\n",
       "    }\n",
       "</style>\n",
       "<table border=\"1\" class=\"dataframe\">\n",
       "  <thead>\n",
       "    <tr style=\"text-align: right;\">\n",
       "      <th></th>\n",
       "      <th>news_text</th>\n",
       "      <th>labels</th>\n",
       "    </tr>\n",
       "  </thead>\n",
       "  <tbody>\n",
       "    <tr>\n",
       "      <th>7</th>\n",
       "      <td>أعلن المدير الفني للمنتخب السعودي الأول \"رينار...</td>\n",
       "      <td>16</td>\n",
       "    </tr>\n",
       "    <tr>\n",
       "      <th>18</th>\n",
       "      <td>بدأ مساء اليوم بيع تذاكر اعتزال ياسر القحطاني ...</td>\n",
       "      <td>16</td>\n",
       "    </tr>\n",
       "    <tr>\n",
       "      <th>98</th>\n",
       "      <td>أكد نعيم البكر، رئيس لجنة المسابقات بالاتحاد ا...</td>\n",
       "      <td>16</td>\n",
       "    </tr>\n",
       "    <tr>\n",
       "      <th>116</th>\n",
       "      <td>تعادل المنتخب السعودي الأول لكرة القدم سلبياً ...</td>\n",
       "      <td>16</td>\n",
       "    </tr>\n",
       "    <tr>\n",
       "      <th>130</th>\n",
       "      <td>أعلن ياسر القحطاني مهاجم فريق الهلال السابق، م...</td>\n",
       "      <td>16</td>\n",
       "    </tr>\n",
       "    <tr>\n",
       "      <th>136</th>\n",
       "      <td>تستضيف العاصمة اليابانية طوكيو يوم 23 نوفمبر ...</td>\n",
       "      <td>16</td>\n",
       "    </tr>\n",
       "    <tr>\n",
       "      <th>235</th>\n",
       "      <td>أعلن تركي آل الشيخ رئيس الهيئة العامة للترفيه ...</td>\n",
       "      <td>16</td>\n",
       "    </tr>\n",
       "  </tbody>\n",
       "</table>\n",
       "</div>"
      ],
      "text/plain": [
       "                                             news_text  labels\n",
       "7    أعلن المدير الفني للمنتخب السعودي الأول \"رينار...      16\n",
       "18   بدأ مساء اليوم بيع تذاكر اعتزال ياسر القحطاني ...      16\n",
       "98   أكد نعيم البكر، رئيس لجنة المسابقات بالاتحاد ا...      16\n",
       "116  تعادل المنتخب السعودي الأول لكرة القدم سلبياً ...      16\n",
       "130  أعلن ياسر القحطاني مهاجم فريق الهلال السابق، م...      16\n",
       "136   تستضيف العاصمة اليابانية طوكيو يوم 23 نوفمبر ...      16\n",
       "235  أعلن تركي آل الشيخ رئيس الهيئة العامة للترفيه ...      16"
      ]
     },
     "execution_count": 17,
     "metadata": {},
     "output_type": "execute_result"
    }
   ],
   "source": [
    "s = 'النادي الاهلي'\n",
    "suggest(s, 7)"
   ]
  },
  {
   "cell_type": "code",
   "execution_count": 18,
   "metadata": {},
   "outputs": [
    {
     "name": "stdout",
     "output_type": "stream",
     "text": [
      "نادي الهلال\n"
     ]
    },
    {
     "data": {
      "text/html": [
       "<div>\n",
       "<style scoped>\n",
       "    .dataframe tbody tr th:only-of-type {\n",
       "        vertical-align: middle;\n",
       "    }\n",
       "\n",
       "    .dataframe tbody tr th {\n",
       "        vertical-align: top;\n",
       "    }\n",
       "\n",
       "    .dataframe thead th {\n",
       "        text-align: right;\n",
       "    }\n",
       "</style>\n",
       "<table border=\"1\" class=\"dataframe\">\n",
       "  <thead>\n",
       "    <tr style=\"text-align: right;\">\n",
       "      <th></th>\n",
       "      <th>news_text</th>\n",
       "      <th>labels</th>\n",
       "    </tr>\n",
       "  </thead>\n",
       "  <tbody>\n",
       "    <tr>\n",
       "      <th>7</th>\n",
       "      <td>أعلن المدير الفني للمنتخب السعودي الأول \"رينار...</td>\n",
       "      <td>16</td>\n",
       "    </tr>\n",
       "    <tr>\n",
       "      <th>18</th>\n",
       "      <td>بدأ مساء اليوم بيع تذاكر اعتزال ياسر القحطاني ...</td>\n",
       "      <td>16</td>\n",
       "    </tr>\n",
       "    <tr>\n",
       "      <th>98</th>\n",
       "      <td>أكد نعيم البكر، رئيس لجنة المسابقات بالاتحاد ا...</td>\n",
       "      <td>16</td>\n",
       "    </tr>\n",
       "    <tr>\n",
       "      <th>116</th>\n",
       "      <td>تعادل المنتخب السعودي الأول لكرة القدم سلبياً ...</td>\n",
       "      <td>16</td>\n",
       "    </tr>\n",
       "    <tr>\n",
       "      <th>130</th>\n",
       "      <td>أعلن ياسر القحطاني مهاجم فريق الهلال السابق، م...</td>\n",
       "      <td>16</td>\n",
       "    </tr>\n",
       "    <tr>\n",
       "      <th>136</th>\n",
       "      <td>تستضيف العاصمة اليابانية طوكيو يوم 23 نوفمبر ...</td>\n",
       "      <td>16</td>\n",
       "    </tr>\n",
       "    <tr>\n",
       "      <th>235</th>\n",
       "      <td>أعلن تركي آل الشيخ رئيس الهيئة العامة للترفيه ...</td>\n",
       "      <td>16</td>\n",
       "    </tr>\n",
       "    <tr>\n",
       "      <th>238</th>\n",
       "      <td>تم تعيين المعلق التونسي عصام الشوالي للتعليق ع...</td>\n",
       "      <td>16</td>\n",
       "    </tr>\n",
       "    <tr>\n",
       "      <th>261</th>\n",
       "      <td>زار الأمير عبدالعزيز بن تركي الفيصل، رئيس مجلس...</td>\n",
       "      <td>16</td>\n",
       "    </tr>\n",
       "    <tr>\n",
       "      <th>262</th>\n",
       "      <td>يستضيف المنتخب السعودي الأول لكرة القدم منتخب...</td>\n",
       "      <td>16</td>\n",
       "    </tr>\n",
       "    <tr>\n",
       "      <th>264</th>\n",
       "      <td>عقد رئيس الاتحاد السعودي لكرة القدم ياسر المس...</td>\n",
       "      <td>16</td>\n",
       "    </tr>\n",
       "    <tr>\n",
       "      <th>268</th>\n",
       "      <td>رفضت لجنة الانضباط والأخلاق شكوى مقدمة من نادي...</td>\n",
       "      <td>16</td>\n",
       "    </tr>\n",
       "  </tbody>\n",
       "</table>\n",
       "</div>"
      ],
      "text/plain": [
       "                                             news_text  labels\n",
       "7    أعلن المدير الفني للمنتخب السعودي الأول \"رينار...      16\n",
       "18   بدأ مساء اليوم بيع تذاكر اعتزال ياسر القحطاني ...      16\n",
       "98   أكد نعيم البكر، رئيس لجنة المسابقات بالاتحاد ا...      16\n",
       "116  تعادل المنتخب السعودي الأول لكرة القدم سلبياً ...      16\n",
       "130  أعلن ياسر القحطاني مهاجم فريق الهلال السابق، م...      16\n",
       "136   تستضيف العاصمة اليابانية طوكيو يوم 23 نوفمبر ...      16\n",
       "235  أعلن تركي آل الشيخ رئيس الهيئة العامة للترفيه ...      16\n",
       "238  تم تعيين المعلق التونسي عصام الشوالي للتعليق ع...      16\n",
       "261  زار الأمير عبدالعزيز بن تركي الفيصل، رئيس مجلس...      16\n",
       "262   يستضيف المنتخب السعودي الأول لكرة القدم منتخب...      16\n",
       "264   عقد رئيس الاتحاد السعودي لكرة القدم ياسر المس...      16\n",
       "268  رفضت لجنة الانضباط والأخلاق شكوى مقدمة من نادي...      16"
      ]
     },
     "execution_count": 18,
     "metadata": {},
     "output_type": "execute_result"
    }
   ],
   "source": [
    "s = input()\n",
    "suggest(s, 12)"
   ]
  },
  {
   "cell_type": "markdown",
   "metadata": {},
   "source": [
    "### Finding Optimal K Clusters Using Elbow Method\n",
    "I have tried to use Elbow method to find optimal K clusters."
   ]
  },
  {
   "cell_type": "code",
   "execution_count": 20,
   "metadata": {},
   "outputs": [],
   "source": [
    "# # selecting K:\n",
    "# inertias = []\n",
    "# n_range = range(2, 20)\n",
    "# for n in n_range:\n",
    "#     model = KMeans(n_clusters=n)\n",
    "#     model.fit(X)\n",
    "#     inertia = model.inertia_\n",
    "#     inertias.append(inertia)\n",
    "\n",
    "# inertia\n",
    "# # Plot the elbow\n",
    "# plt.plot(range(2, 20), inertias, 'bx-')\n",
    "# plt.xlabel('k')\n",
    "# plt.ylabel('Inertias')\n",
    "# plt.title('The Elbow Method showing the optimal k')\n",
    "# plt.show()"
   ]
  },
  {
   "cell_type": "code",
   "execution_count": null,
   "metadata": {},
   "outputs": [],
   "source": []
  }
 ],
 "metadata": {
  "kernelspec": {
   "display_name": "Python 3",
   "language": "python",
   "name": "python3"
  },
  "language_info": {
   "codemirror_mode": {
    "name": "ipython",
    "version": 3
   },
   "file_extension": ".py",
   "mimetype": "text/x-python",
   "name": "python",
   "nbconvert_exporter": "python",
   "pygments_lexer": "ipython3",
   "version": "3.7.3"
  }
 },
 "nbformat": 4,
 "nbformat_minor": 2
}
